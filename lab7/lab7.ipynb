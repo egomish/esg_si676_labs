{
 "cells": [
  {
   "cell_type": "markdown",
   "id": "270c9b03-f441-4e5d-8871-8264449c43e1",
   "metadata": {},
   "source": [
    "# SI 676 - Lab 7"
   ]
  },
  {
   "cell_type": "markdown",
   "id": "0995f58b-d4ad-4b4c-976e-cec518d7caf5",
   "metadata": {},
   "source": [
    "### 1. What is the first-line string that declares an XML document (that is, what is basic syntax of the XML document declaration)?"
   ]
  },
  {
   "cell_type": "markdown",
   "id": "a7961eb8-4671-4899-9e34-0d85fa46d07d",
   "metadata": {},
   "source": [
    "\\<?xml version=\"1.0\" encoding=\"utf-8\" ?>"
   ]
  },
  {
   "cell_type": "markdown",
   "id": "8c5597e3-317a-4232-855c-d8aa7495ec6f",
   "metadata": {},
   "source": [
    "The question mark in the tag indicates that the tag should be handled directly by the parser rather than be interpreted as part of the DOM, the tag name 'xml' indicates that the tag should be processed as XML, and the two attributes are parameters for that processing--the version can be 1.0 or 1.1 (1.0 handles some characters incorrectly), and the encoding specifies what character encoding the parser should use when reading in the bytes that comprise the rest of the file."
   ]
  },
  {
   "cell_type": "markdown",
   "id": "52b45824-a8c9-478c-8ad0-bcc995b374ba",
   "metadata": {},
   "source": [
    "### 2. What is the advantage of aliasing a library? Why import the ElementTree module using import xml.etree.ElemenTree as ET rather than the basic import statement?"
   ]
  },
  {
   "cell_type": "markdown",
   "id": "f1fe6d57-99fe-44f8-8702-d2f6f45ddda9",
   "metadata": {},
   "source": [
    "Aliasing a library is useful for abbreviating the full path for the library when it's very long, so that you don't have to type it all the way out every time. It also provides a layer of indirection, so that if you need to fail over to another library for some reason you can use the same alias to refer to both libraries."
   ]
  },
  {
   "cell_type": "markdown",
   "id": "29950662-a4fa-4e6f-a5af-bc07c179d420",
   "metadata": {},
   "source": [
    "### 3. Write a code block that loads the EAD finding aid in the course repo (/data/xml/day_20221004_205435_UTC__ead.xml). Parse the tree and extract the archdesc element. What are the subelements? This builds on the assignment we used in class (archDesc = root.find('archdesc')) and then you can develop a loop like for element in archdesc to explore further). (See the section in class exploring the control element.)"
   ]
  },
  {
   "cell_type": "code",
   "execution_count": 1,
   "id": "39ebffd0-5aaf-4de0-a00d-88c7dde7fcec",
   "metadata": {},
   "outputs": [],
   "source": [
    "import xml.etree.ElementTree as ET"
   ]
  },
  {
   "cell_type": "code",
   "execution_count": 2,
   "id": "a0e0529f-12af-4647-9587-16565e6814e7",
   "metadata": {},
   "outputs": [
    {
     "name": "stdout",
     "output_type": "stream",
     "text": [
      "{http://ead3.archivists.org/schema/}did\n",
      "{http://ead3.archivists.org/schema/}scopecontent\n",
      "{http://ead3.archivists.org/schema/}bioghist\n",
      "{http://ead3.archivists.org/schema/}accessrestrict\n",
      "{http://ead3.archivists.org/schema/}userestrict\n",
      "{http://ead3.archivists.org/schema/}prefercite\n",
      "{http://ead3.archivists.org/schema/}controlaccess\n",
      "{http://ead3.archivists.org/schema/}dsc\n"
     ]
    }
   ],
   "source": [
    "ead_file = \"day_20221004_205435_UTC__ead.xml\"\n",
    "\n",
    "tree = ET.parse(ead_file)\n",
    "root = tree.getroot()\n",
    "\n",
    "archdesc = root.find(\"{http://ead3.archivists.org/schema/}archdesc\")\n",
    "for child in archdesc:\n",
    "    print(child.tag)"
   ]
  },
  {
   "cell_type": "markdown",
   "id": "354f6b72-8ca1-4efb-a7fe-7182b72edd56",
   "metadata": {},
   "source": [
    "### 4. How do you work with prefixed namespaces in the ET module? How do you assign prefixes for use within path addresses? How do you assign namespaces for writing out a valid XML with namespace declarations and prefixes?"
   ]
  },
  {
   "cell_type": "markdown",
   "id": "fb27c522-561b-4e80-8d97-21995adec49d",
   "metadata": {},
   "source": [
    "Functions in the etree library accept a parameter for namespace, which is interpolated into the string parameter when provided in the correct format and prepended to nodes."
   ]
  },
  {
   "cell_type": "code",
   "execution_count": 3,
   "id": "5054aa70-9c32-4f4b-af12-4aa0a13cc8ef",
   "metadata": {},
   "outputs": [],
   "source": [
    "ns = {\n",
    "    \"ead\": \"http://ead3.archivists.org/schema/\"\n",
    "}"
   ]
  },
  {
   "cell_type": "code",
   "execution_count": 4,
   "id": "89bef7bd-af81-4a8f-84f0-47ef1f0c2a0f",
   "metadata": {},
   "outputs": [
    {
     "name": "stdout",
     "output_type": "stream",
     "text": [
      "<Element '{http://ead3.archivists.org/schema/}control' at 0x70154cf15300>\n"
     ]
    }
   ],
   "source": [
    "control = root.find(\"ead:control\", ns)\n",
    "print(control)"
   ]
  },
  {
   "cell_type": "markdown",
   "id": "3aefb749-0dbd-4883-8af6-b7c28feb651a",
   "metadata": {},
   "source": [
    "### 5. Write python code that will encode the following DublinCore fields in valid XML. The root tag should be metadata, it should output appropriately namespaced fields (i.e., using dcterms:)."
   ]
  },
  {
   "cell_type": "code",
   "execution_count": 5,
   "id": "a49299cd-4dc5-4a0a-abbb-98c1b06d7564",
   "metadata": {},
   "outputs": [],
   "source": [
    "ns[\"dcterms\"] = \"http://purl.org/dc/terms\"\n",
    "\n",
    "# Note: the ElementTree factory doesn't seem to allow \n",
    "#       string interpolation of namespaces as used above, \n",
    "#       so formatted strings are used to set the namespace here instead\n",
    "metadata = ET.Element(f\"{{{ns['dcterms']}}}metadata\")\n",
    "ET.SubElement(metadata, f\"{{{ns['dcterms']}}}title\").set(\"Title\", \"Oldsmobiles Crossing the Mackinac Bridge\")\n",
    "ET.SubElement(metadata, f\"{{{ns['dcterms']}}}identifier\").set(\"Identifier\", \"2017-03-001.007.052\")\n",
    "ET.SubElement(metadata, f\"{{{ns['dcterms']}}}source\").set(\"Source\", \"https://cadl.catalogaccess.com/archives/11662\")\n",
    "ET.SubElement(metadata, f\"{{{ns['dcterms']}}}provenance\").set(\"Provenance\", \"https://www.cadl.org/\")\n",
    "ET.SubElement(metadata, f\"{{{ns['dcterms']}}}provenanceStatement\").set(\"Provenance Statement\", \"Original shared by the Capital Area District Libraries (CADL)\")\n",
    "ET.SubElement(metadata, f\"{{{ns['dcterms']}}}creator\").set(\"Creator\", \"Oldsmobile History Center\")\n",
    "ET.SubElement(metadata, f\"{{{ns['dcterms']}}}creator\").set(\"Creator\", \"https://cadl.catalogaccess.com/people/1320\")\n",
    "ET.SubElement(metadata, f\"{{{ns['dcterms']}}}created\").set(\"Created\", \"Unknown\")\n",
    "ET.SubElement(metadata, f\"{{{ns['dcterms']}}}date\").set(\"Date\", \"1960s/1970s\")\n",
    "\n",
    "ET.register_namespace(\"dcterms\", \"http://purl.org/dc/terms\")\n",
    "ET.ElementTree(metadata).write(\"metadata.xml\", xml_declaration=True, encoding=\"utf-8\", method=\"xml\")"
   ]
  }
 ],
 "metadata": {
  "kernelspec": {
   "display_name": "Python 3 (ipykernel)",
   "language": "python",
   "name": "python3"
  },
  "language_info": {
   "codemirror_mode": {
    "name": "ipython",
    "version": 3
   },
   "file_extension": ".py",
   "mimetype": "text/x-python",
   "name": "python",
   "nbconvert_exporter": "python",
   "pygments_lexer": "ipython3",
   "version": "3.10.12"
  }
 },
 "nbformat": 4,
 "nbformat_minor": 5
}
